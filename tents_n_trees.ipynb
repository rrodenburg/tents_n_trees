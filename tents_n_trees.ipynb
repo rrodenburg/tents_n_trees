{
 "cells": [
  {
   "cell_type": "markdown",
   "metadata": {},
   "source": [
    "# Solving Tents and Trees using Numpy and Pyomo\n",
    "In order to improve my skills in Numpy and linear programming with Pyomo, I created a little notebook to solve the tents and trees puzzle often found in newspapers. The game works as follows:\n",
    "- Place tents in the grid (camping).\n",
    "- The numbers outside the grid show how many tents in that row or column.\n",
    "- Tents can only be planted next to trees (horizontally or vetrically)\n",
    "- Tents do not touch each other, not even diagonally."
   ]
  },
  {
   "cell_type": "markdown",
   "metadata": {},
   "source": [
    "<img src=\"./examples/example1.png\" alt=\"Example\" style=\"width: 250px;\"/>"
   ]
  },
  {
   "cell_type": "markdown",
   "metadata": {},
   "source": [
    "First, we load the neccesary packages and encode the tree positions, and column and row limits."
   ]
  },
  {
   "cell_type": "code",
   "execution_count": 1,
   "metadata": {},
   "outputs": [],
   "source": [
    "import numpy as np\n",
    "import pyomo.environ as pyo"
   ]
  },
  {
   "cell_type": "code",
   "execution_count": 2,
   "metadata": {},
   "outputs": [],
   "source": [
    "from puzzle_detection import puzzle_detection\n",
    "puzzle = puzzle_detection.PuzzleDetector('./examples/example1.png')\n",
    "puzzle.detect_squares()\n",
    "puzzle.detect_trees()"
   ]
  },
  {
   "cell_type": "code",
   "execution_count": 3,
   "metadata": {},
   "outputs": [],
   "source": [
    "# Encode the limits\n",
    "# Example 1\n",
    "limits_c = [1,1,1,0,1,3,1,2]\n",
    "limits_r = [1,2,0,3,0,2,1,1]\n",
    "\n",
    "# Example 2\n",
    "# limits_c = [2,2,2,3,2,2,2,3,0,5,0,5]\n",
    "# limits_r = [3,3,2,1,2,3,2,2,2,4,0,4]\n",
    "\n",
    "# Encode the trees.\n",
    "# forest = np.array([[0,0], [0,6], [1,4], [2,6], [3,0], [3,3], [5,4], [5,7], [6,2], [7,6]])\n",
    "forest = puzzle.tree_indices\n",
    "\n",
    "# Dimensions of the camping (row and columnn length)\n",
    "# dimension = 8\n",
    "dimension = puzzle.dimension"
   ]
  },
  {
   "cell_type": "markdown",
   "metadata": {},
   "source": [
    "We define a class for the Camping. This class can assign positions to Tents, Trees or any other figure. The show method will visualize the campsite."
   ]
  },
  {
   "cell_type": "code",
   "execution_count": 4,
   "metadata": {},
   "outputs": [],
   "source": [
    "class Camping:\n",
    "    \n",
    "    def __init__(self, forest, dimension, limits_c, limits_r):\n",
    "        \n",
    "        # Initialize the camping\n",
    "        self.camping = np.full((dimension, dimension), fill_value='.', dtype='object')\n",
    "        \n",
    "        # Add trees\n",
    "        self.allocate(forest, 'T')\n",
    "        \n",
    "        # Store the limits\n",
    "        self.limits_c = [str(limit) for limit in limits_c]\n",
    "        self.limits_r = [str(limit) for limit in limits_r]\n",
    "        \n",
    "    def allocate(self, indices, str_symbol):\n",
    "        \"\"\"Set indices with a symbol\"\"\"\n",
    "        x, y = indices.T\n",
    "        self.camping[x,y] = str_symbol\n",
    "        \n",
    "    def show(self):\n",
    "        \"\"\"Visualize the campsite\"\"\"\n",
    "        camping = np.vstack([self.camping, self.limits_c])\n",
    "        limits_r = self.limits_r + ['.']\n",
    "        camping = np.vstack([limits_r, camping.T])\n",
    "        print(camping.T)"
   ]
  },
  {
   "cell_type": "markdown",
   "metadata": {},
   "source": [
    "Let's see how the camping looks like when show using our class"
   ]
  },
  {
   "cell_type": "code",
   "execution_count": 5,
   "metadata": {},
   "outputs": [
    {
     "name": "stdout",
     "output_type": "stream",
     "text": [
      "[['1' 'T' '.' '.' '.' '.' '.' 'T' '.']\n",
      " ['2' '.' '.' '.' '.' 'T' '.' '.' '.']\n",
      " ['0' '.' '.' '.' '.' '.' '.' 'T' '.']\n",
      " ['3' 'T' '.' '.' 'T' '.' '.' '.' '.']\n",
      " ['0' '.' '.' '.' '.' '.' '.' '.' '.']\n",
      " ['2' '.' '.' '.' '.' 'T' '.' '.' 'T']\n",
      " ['1' '.' '.' 'T' '.' '.' '.' '.' '.']\n",
      " ['1' '.' '.' '.' '.' '.' '.' 'T' '.']\n",
      " ['.' '1' '1' '1' '0' '1' '3' '1' '2']]\n"
     ]
    }
   ],
   "source": [
    "camping = Camping(forest, dimension, limits_c, limits_r)\n",
    "camping.show()"
   ]
  },
  {
   "cell_type": "markdown",
   "metadata": {},
   "source": [
    "We see that the open spots are indicated with a '.'. The trees are referred to with 'T'. Now we start preparing the data for linear programming. Let's start with the first rule:\n",
    "\n",
    "- Tents can only be planted next to trees (horizontally or vetrically)\n",
    "\n",
    "Thus the only places in the campsite next to trees are capsites. "
   ]
  },
  {
   "cell_type": "code",
   "execution_count": 6,
   "metadata": {},
   "outputs": [],
   "source": [
    "# Replicate the forest 4 times to assign campsites to each cardinal directionthe trees\n",
    "# Shape (4, number of trees, 2)\n",
    "campsites = np.array([forest for _ in range(4)])\n",
    "\n",
    "campsites[0,:,0] = campsites[0,:,0] + 1\n",
    "campsites[1,:,0] = campsites[1,:,0] - 1\n",
    "campsites[2,:,1] = campsites[2,:,1] + 1\n",
    "campsites[3,:,1] = campsites[3,:,1] - 1\n",
    "\n",
    "# Flatten the 4 nested arrays\n",
    "campsites = campsites.reshape(4*len(forest),2)\n",
    "\n",
    "# Remove duplicate campsites\n",
    "campsites = np.unique(campsites, axis=0)\n",
    "\n",
    "#Remove campsites that are located outside the campsite\n",
    "is_outside = (campsites >= dimension) | (campsites < 0)\n",
    "idx = np.any(is_outside, axis=1)\n",
    "campsites = campsites[~idx]\n",
    "\n",
    "#Remove campsites located on a Tree\n",
    "idx = camping.camping[campsites.T[0], campsites.T[1]] != 'T'\n",
    "campsites = campsites[idx]"
   ]
  },
  {
   "cell_type": "markdown",
   "metadata": {},
   "source": [
    "Let's have a look at a subsection of the campsites, and add them to our camping as 'x'."
   ]
  },
  {
   "cell_type": "code",
   "execution_count": 7,
   "metadata": {},
   "outputs": [
    {
     "data": {
      "text/plain": [
       "array([[0, 1],\n",
       "       [0, 4],\n",
       "       [0, 5],\n",
       "       [0, 7],\n",
       "       [1, 0],\n",
       "       [1, 3],\n",
       "       [1, 5],\n",
       "       [1, 6],\n",
       "       [2, 0],\n",
       "       [2, 3]], dtype=int64)"
      ]
     },
     "execution_count": 7,
     "metadata": {},
     "output_type": "execute_result"
    }
   ],
   "source": [
    "campsites[:10]"
   ]
  },
  {
   "cell_type": "code",
   "execution_count": 8,
   "metadata": {},
   "outputs": [
    {
     "name": "stdout",
     "output_type": "stream",
     "text": [
      "[['1' 'T' 'x' '.' '.' 'x' 'x' 'T' 'x']\n",
      " ['2' 'x' '.' '.' 'x' 'T' 'x' 'x' '.']\n",
      " ['0' 'x' '.' '.' 'x' 'x' 'x' 'T' 'x']\n",
      " ['3' 'T' 'x' 'x' 'T' 'x' '.' 'x' '.']\n",
      " ['0' 'x' '.' '.' 'x' 'x' '.' '.' 'x']\n",
      " ['2' '.' '.' 'x' 'x' 'T' 'x' 'x' 'T']\n",
      " ['1' '.' 'x' 'T' 'x' 'x' '.' 'x' 'x']\n",
      " ['1' '.' '.' 'x' '.' '.' 'x' 'T' 'x']\n",
      " ['.' '1' '1' '1' '0' '1' '3' '1' '2']]\n"
     ]
    }
   ],
   "source": [
    "# Add campsites to camping\n",
    "camping.allocate(campsites, 'x')\n",
    "camping.show()"
   ]
  },
  {
   "cell_type": "markdown",
   "metadata": {},
   "source": [
    "By allowing the linear programming solution to only place tents on the spots marked with X, we have satisfied the first rule. Let's move on to the next rule:\n",
    "\n",
    "- Tents do not touch each other, not even diagonally.\n",
    "\n",
    "In order to satisfy this constraint, a 2 x 2 section of the campsite can only contain a single tent. To implement this, we will create campsite groups and add all the campsites to the respective groups. We have a campsite group for each index of the camping."
   ]
  },
  {
   "cell_type": "code",
   "execution_count": 9,
   "metadata": {},
   "outputs": [
    {
     "data": {
      "text/plain": [
       "array([[0, 0],\n",
       "       [0, 1],\n",
       "       [0, 2],\n",
       "       [0, 3],\n",
       "       [0, 4],\n",
       "       [0, 5],\n",
       "       [0, 6],\n",
       "       [0, 7],\n",
       "       [1, 0],\n",
       "       [1, 1]])"
      ]
     },
     "execution_count": 9,
     "metadata": {},
     "output_type": "execute_result"
    }
   ],
   "source": [
    "# Obtain camping group - camping indices - to loop over and add campsites that are within the group\n",
    "camping_indices = np.stack(np.indices(camping.camping.shape), axis=2).reshape(-1,2)\n",
    "camping_indices[0:10]"
   ]
  },
  {
   "cell_type": "code",
   "execution_count": 10,
   "metadata": {},
   "outputs": [
    {
     "data": {
      "text/plain": [
       "array([[0, 0, 1],\n",
       "       [0, 1, 0],\n",
       "       [1, 0, 1],\n",
       "       [2, 1, 3],\n",
       "       [3, 0, 4],\n",
       "       [3, 1, 3],\n",
       "       [4, 0, 4],\n",
       "       [4, 0, 5],\n",
       "       [4, 1, 5],\n",
       "       [5, 0, 5]], dtype=int64)"
      ]
     },
     "execution_count": 10,
     "metadata": {},
     "output_type": "execute_result"
    }
   ],
   "source": [
    "campsites_groups = np.array([], dtype='int').reshape(0,3)\n",
    "\n",
    "campsites_rows, campsites_cols = campsites.T\n",
    "\n",
    "# Loop over the camping indeces and add any campsites within the group\n",
    "for idx, (top_left_row_idx, top_left_col_idx) in enumerate(camping_indices):\n",
    "    \n",
    "    # Calculate distance of each campsite to the top left index of the 2 x 2 group\n",
    "    row_diff = campsites_rows - top_left_row_idx\n",
    "    col_diff = campsites_cols - top_left_col_idx\n",
    "    \n",
    "    # Assess if campsite belongs to the group\n",
    "    campsites_in_group = campsites[(row_diff <= 1) & (row_diff >=0) & (col_diff <= 1) & (col_diff >=0)]\n",
    "    \n",
    "    # If there are campsites in the group, add these to the array of campsite_groups\n",
    "    if len(campsites_in_group) > 0:\n",
    "        campsites_in_group = np.insert(campsites_in_group, 0, idx, axis=1)\n",
    "        campsites_groups = np.append(campsites_groups, campsites_in_group, axis=0)\n",
    "\n",
    "# Campsites_groups is np.array with shape (campsites, (campsite_group, row_idx, col_idx))\n",
    "campsites_groups[:10]"
   ]
  },
  {
   "cell_type": "markdown",
   "metadata": {},
   "source": [
    "We now have a numpy array that describe all the required information for modelling. The first index contains the campsite group, to prevent placement of tents horizontal and diagonal next to each other. The second and third index contain the row and column index of the campsite. A set of campsites can be obtained by taking the unique entries of the second and third axis."
   ]
  },
  {
   "cell_type": "code",
   "execution_count": 11,
   "metadata": {},
   "outputs": [
    {
     "data": {
      "text/plain": [
       "array([[0, 1],\n",
       "       [0, 4],\n",
       "       [0, 5],\n",
       "       [0, 7],\n",
       "       [1, 0],\n",
       "       [1, 3],\n",
       "       [1, 5],\n",
       "       [1, 6],\n",
       "       [2, 0],\n",
       "       [2, 3]], dtype=int64)"
      ]
     },
     "execution_count": 11,
     "metadata": {},
     "output_type": "execute_result"
    }
   ],
   "source": [
    "campsites_set = np.unique(np.take(campsites_groups, [1,2], axis=1), axis=0)\n",
    "campsites_set[:10]"
   ]
  },
  {
   "cell_type": "markdown",
   "metadata": {},
   "source": [
    "# Modelling the game as a linear programming problem\n",
    "With all the building blocks in place, we can start solving the game. We use pyomo as to solve the game as a linear programming problem. "
   ]
  },
  {
   "cell_type": "code",
   "execution_count": 12,
   "metadata": {},
   "outputs": [],
   "source": [
    "m = pyo.ConcreteModel()"
   ]
  },
  {
   "cell_type": "markdown",
   "metadata": {},
   "source": [
    "Let's add all the constraints one by one to define the linear programming problem. First up:\n",
    "- Tents can only be planted next to trees (horizontally or vetrically)\n",
    "\n",
    "Let's create a Binary variable for each possible campsite in our campsite sets."
   ]
  },
  {
   "cell_type": "code",
   "execution_count": 13,
   "metadata": {},
   "outputs": [],
   "source": [
    "m.Campsites = pyo.Set(initialize=[tuple(site) for site in campsites_set])\n",
    "\n",
    "m.tents = pyo.Var(m.Campsites, within=pyo.Binary)"
   ]
  },
  {
   "cell_type": "markdown",
   "metadata": {},
   "source": [
    "- The numbers outside the grid show how many tents in that row or column."
   ]
  },
  {
   "cell_type": "code",
   "execution_count": 14,
   "metadata": {},
   "outputs": [],
   "source": [
    "m.Dimension = pyo.Set(initialize=range(dimension))\n",
    "\n",
    "def col_lim_rule(m, i):\n",
    "    \"\"\"Ensure that the sum of tents in a column is equal to the required number of tents\"\"\"\n",
    "    return sum(m.tents[site] for site in m.Campsites if site[1] == i) == limits_c[i] \n",
    "\n",
    "def row_lim_rule(m, i):\n",
    "    \"\"\"Ensure that the sum of tents in a row is equal to the required number of tents\"\"\"\n",
    "    return sum(m.tents[site] for site in m.Campsites if site[0] == i) == limits_r[i]\n",
    "\n",
    "# Add the constraints to the model\n",
    "m.c_col = pyo.Constraint(m.Dimension, rule=col_lim_rule)\n",
    "m.c_row = pyo.Constraint(m.Dimension, rule=row_lim_rule)"
   ]
  },
  {
   "cell_type": "markdown",
   "metadata": {},
   "source": [
    "- Tents do not touch each other, not even diagonally.\n",
    "\n",
    "We add the campsites groups as constraints. Recall that for eacht group the first index is the group number, the second and third index refer to the campsite location."
   ]
  },
  {
   "cell_type": "code",
   "execution_count": 15,
   "metadata": {},
   "outputs": [],
   "source": [
    "m.Group_idxs = pyo.Set(initialize=np.unique(campsites_groups.take(0, axis=1)))\n",
    "m.CampsiteGroups = pyo.Set(initialize=[tuple(site) for site in campsites_groups])\n",
    "\n",
    "def campsites_group_rule(m, i):\n",
    "    \"\"\"Ensure that no more than 1 tent is allocated per group\"\"\"\n",
    "    return sum(m.tents[site[1], site[2]] for site in m.CampsiteGroups if site[0] == i) <= 1\n",
    "\n",
    "# Add the contraint for each group.\n",
    "m.c_group = pyo.Constraint(m.Group_idxs, rule=campsites_group_rule)"
   ]
  },
  {
   "cell_type": "markdown",
   "metadata": {},
   "source": [
    "# Solving the game\n",
    "With all the restraints in place, we can now solve te game. Pyomo requires an objective, that is optimized. In our case, no such objective exists, therefor we add an constant objective and continue to solve the game!"
   ]
  },
  {
   "cell_type": "code",
   "execution_count": 16,
   "metadata": {},
   "outputs": [
    {
     "name": "stdout",
     "output_type": "stream",
     "text": [
      "WARNING: Constant objective detected, replacing with a placeholder to prevent\n",
      "    solver failure.\n"
     ]
    }
   ],
   "source": [
    "# Add a constant objective\n",
    "m.obj = pyo.Objective(expr=1.0)\n",
    "\n",
    "opt = pyo.SolverFactory('glpk')\n",
    "res = opt.solve(m)"
   ]
  },
  {
   "cell_type": "markdown",
   "metadata": {},
   "source": [
    "Let's have a look at how our solution looks like!"
   ]
  },
  {
   "cell_type": "code",
   "execution_count": 17,
   "metadata": {},
   "outputs": [
    {
     "name": "stdout",
     "output_type": "stream",
     "text": [
      "[['1' 'T' '0' '.' '.' '0' '0' 'T' '1']\n",
      " ['2' '1' '.' '.' '0' 'T' '1' '0' '.']\n",
      " ['0' '0' '.' '.' '0' '0' '0' 'T' '0']\n",
      " ['3' 'T' '1' '0' 'T' '1' '.' '1' '.']\n",
      " ['0' '0' '.' '.' '0' '0' '.' '.' '0']\n",
      " ['2' '.' '.' '1' '0' 'T' '1' '0' 'T']\n",
      " ['1' '.' '0' 'T' '0' '0' '.' '0' '1']\n",
      " ['1' '.' '.' '0' '.' '.' '1' 'T' '0']\n",
      " ['.' '1' '1' '1' '0' '1' '3' '1' '2']]\n"
     ]
    }
   ],
   "source": [
    "for v in m.component_objects(pyo.Var, active=True):\n",
    "    for index in v:\n",
    "        value = str(int(pyo.value(v[index])))\n",
    "        camping.allocate(np.array([index]), value)\n",
    "        \n",
    "camping.show()"
   ]
  },
  {
   "cell_type": "markdown",
   "metadata": {},
   "source": [
    "Let's see the solution on the original image!"
   ]
  },
  {
   "cell_type": "code",
   "execution_count": 18,
   "metadata": {},
   "outputs": [
    {
     "name": "stdout",
     "output_type": "stream",
     "text": [
      "10\n"
     ]
    },
    {
     "data": {
      "image/png": "[encoded data removed]",
      "text/plain": [
       "<Figure size 432x288 with 1 Axes>"
      ]
     },
     "metadata": {
      "needs_background": "light"
     },
     "output_type": "display_data"
    }
   ],
   "source": [
    "puzzle.show_squares(camping.camping == '1', filename='example1_solution')"
   ]
  }
 ],
 "metadata": {
  "kernelspec": {
   "display_name": "Python 3",
   "language": "python",
   "name": "python3"
  },
  "language_info": {
   "codemirror_mode": {
    "name": "ipython",
    "version": 3
   },
   "file_extension": ".py",
   "mimetype": "text/x-python",
   "name": "python",
   "nbconvert_exporter": "python",
   "pygments_lexer": "ipython3",
   "version": "3.7.3"
  }
 },
 "nbformat": 4,
 "nbformat_minor": 4
}
